{
 "cells": [
  {
   "cell_type": "code",
   "execution_count": 1,
   "metadata": {
    "collapsed": false
   },
   "outputs": [
    {
     "data": {
      "text/plain": [
       "'/Users/Amiros/GitHub/EntRes'"
      ]
     },
     "execution_count": 1,
     "metadata": {},
     "output_type": "execute_result"
    }
   ],
   "source": [
    "import pandas as pd\n",
    "import json\n",
    "import re\n",
    "import sys\n",
    "import os\n",
    "from Levenshtein import distance\n",
    "import csv\n",
    "os.getcwd()"
   ]
  },
  {
   "cell_type": "code",
   "execution_count": 2,
   "metadata": {
    "collapsed": false
   },
   "outputs": [],
   "source": [
    "#open files\n",
    "matches_train = pd.read_csv('matches_train_hard.csv')\n",
    "\n",
    "with open('foursquare_train_hard.json') as json_data:\n",
    "    foursquare_train = json.load(json_data)\n",
    "with open('locu_train_hard.json') as json_data:\n",
    "    locu_train = json.load(json_data)"
   ]
  },
  {
   "cell_type": "code",
   "execution_count": 6,
   "metadata": {
    "collapsed": false
   },
   "outputs": [],
   "source": [
    "#Normalizing phone numbers\n",
    "for i, phone in enumerate(d['phone'] for d in foursquare_train): \n",
    "    if phone is None:\n",
    "        foursquare_train[i]['phone'] = '0'\n",
    "    else:\n",
    "        foursquare_train[i]['phone'] = re.sub(r'[-|)|(| ]', '', phone)\n",
    "    #print(i,phone)"
   ]
  },
  {
   "cell_type": "code",
   "execution_count": 22,
   "metadata": {
    "collapsed": false
   },
   "outputs": [
    {
     "data": {
      "text/plain": [
       "319"
      ]
     },
     "execution_count": 22,
     "metadata": {},
     "output_type": "execute_result"
    }
   ],
   "source": [
    "fs_id = []\n",
    "locu_id = []\n",
    "\n",
    "for d in foursquare_train:\n",
    "    for e in locu_train:\n",
    "        if e['name'].lower() == d['name'].lower():\n",
    "            if e['latitude'] == d['latitude'] or ['longitude'] == d['longitude'] or e['website'] == d['website'] or e['phone'] == d['phone'] or e['street_address'] == d['street_address']:\n",
    "                fs_id.append(d['id'])\n",
    "                locu_id.append(e['id'])\n",
    "        elif (1 - (distance(e['name'].lower(), d['name'].lower())/max(len(e['name']), len(d['name'])))) > 0.8:\n",
    "            if e['latitude'] == d['latitude'] or ['longitude'] == d['longitude'] or e['phone'] == d['phone']:\n",
    "                if d not in fs_id:\n",
    "                    fs_id.append(d['id'])\n",
    "                    locu_id.append(e['id'])\n",
    "            elif len(e['website'])>1 and len(d['website']) >1:\n",
    "                if (1 - (distance(e['website'].lower(), d['website'].lower())/max(len(e['website']), len(d['website'])))) > 0.8:\n",
    "                    if d not in fs_id:\n",
    "                        fs_id.append(d['id'])\n",
    "                        locu_id.append(e['id'])\n",
    "            elif len(e['street_address'])>1 and len(d['street_address']) >1:\n",
    "                if (1 - (distance(e['street_address'].lower(), d['street_address'].lower())/max(len(e['street_address']), len(d['street_address'])))) > 0.8:\n",
    "                    if d not in fs_id:\n",
    "                        fs_id.append(d['id'])\n",
    "                        locu_id.append(e['id'])\n",
    "                   \n",
    "len(fs_id)"
   ]
  },
  {
   "cell_type": "code",
   "execution_count": null,
   "metadata": {
    "collapsed": false
   },
   "outputs": [],
   "source": [
    "#writing the result to csv\n",
    "rows = zip(locu_id, fs_id)\n",
    "my_filename = 'match_training04.csv'\n",
    "\n",
    "w = csv.writer(open(my_filename,\"w\"))\n",
    "w.writerow(['locu_id', 'foursquare_id'])\n",
    "w.writerows(rows)"
   ]
  },
  {
   "cell_type": "markdown",
   "metadata": {
    "collapsed": false
   },
   "source": [
    "using machine learning "
   ]
  },
  {
   "cell_type": "code",
   "execution_count": null,
   "metadata": {
    "collapsed": false
   },
   "outputs": [],
   "source": [
    "training = foursquare_train + locu_train\n",
    "pd.DataFrame(training)"
   ]
  },
  {
   "cell_type": "code",
   "execution_count": null,
   "metadata": {
    "collapsed": false
   },
   "outputs": [],
   "source": [
    "from sklearn import tree\n",
    "clf = tree.DecisionTreeClassifier()\n",
    "clf = clf.fit(training.id , training.name)"
   ]
  },
  {
   "cell_type": "code",
   "execution_count": 19,
   "metadata": {
    "collapsed": false
   },
   "outputs": [
    {
     "data": {
      "text/plain": [
       "list"
      ]
     },
     "execution_count": 19,
     "metadata": {},
     "output_type": "execute_result"
    }
   ],
   "source": [
    "type(foursquare_train)"
   ]
  }
 ],
 "metadata": {
  "kernelspec": {
   "display_name": "Python 3",
   "language": "python",
   "name": "python3"
  },
  "language_info": {
   "codemirror_mode": {
    "name": "ipython",
    "version": 3
   },
   "file_extension": ".py",
   "mimetype": "text/x-python",
   "name": "python",
   "nbconvert_exporter": "python",
   "pygments_lexer": "ipython3",
   "version": "3.5.0"
  }
 },
 "nbformat": 4,
 "nbformat_minor": 0
}
