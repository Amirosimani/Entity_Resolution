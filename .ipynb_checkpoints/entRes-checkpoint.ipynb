{
 "cells": [
  {
   "cell_type": "code",
   "execution_count": 41,
   "metadata": {
    "collapsed": false
   },
   "outputs": [
    {
     "data": {
      "text/plain": [
       "'/Users/Amiros/GitHub/EntRes'"
      ]
     },
     "execution_count": 41,
     "metadata": {},
     "output_type": "execute_result"
    }
   ],
   "source": [
    "import pandas as pd\n",
    "import json\n",
    "import re\n",
    "import sys\n",
    "import os\n",
    "os.getcwd()"
   ]
  },
  {
   "cell_type": "code",
   "execution_count": 2,
   "metadata": {
    "collapsed": false
   },
   "outputs": [],
   "source": [
    "matches_train = pd.read_csv('matches_train_hard.csv')"
   ]
  },
  {
   "cell_type": "code",
   "execution_count": 4,
   "metadata": {
    "collapsed": false
   },
   "outputs": [
    {
     "data": {
      "text/plain": [
       "u'2122815691'"
      ]
     },
     "execution_count": 4,
     "metadata": {},
     "output_type": "execute_result"
    }
   ],
   "source": [
    "'''\n",
    "#if a string is in the element\n",
    "matches = [s for s in locu_test if 'West Side' in str(s)]\n",
    "print(matches)\n",
    "\n",
    "#print all pairs of key and value\n",
    "for doc in foursquare_test:\n",
    "     for key, value in doc.iteritems():\n",
    "          print key, value\n",
    "\n",
    "foursquare_test[1][\"id\"]\n",
    "\n",
    "phone = re.sub('[^A-Za-z0-9]+', '', phone)\n",
    "\n",
    "\n",
    "'''\n",
    "locu_train[3][\"phone\"]"
   ]
  },
  {
   "cell_type": "code",
   "execution_count": 6,
   "metadata": {
    "collapsed": false
   },
   "outputs": [
    {
     "name": "stdout",
     "output_type": "stream",
     "text": [
      "0 2126784680\n",
      "1 2125644803\n",
      "2 2125827380\n",
      "3 2127325005\n"
     ]
    },
    {
     "ename": "TypeError",
     "evalue": "expected string or buffer",
     "output_type": "error",
     "traceback": [
      "\u001b[0;31m---------------------------------------------------------------------------\u001b[0m",
      "\u001b[0;31mTypeError\u001b[0m                                 Traceback (most recent call last)",
      "\u001b[0;32m<ipython-input-6-4fa27d56e780>\u001b[0m in \u001b[0;36m<module>\u001b[0;34m()\u001b[0m\n\u001b[1;32m      4\u001b[0m         \u001b[0mfoursquare_train\u001b[0m\u001b[0;34m[\u001b[0m\u001b[0mi\u001b[0m\u001b[0;34m]\u001b[0m\u001b[0;34m[\u001b[0m\u001b[0;34m'phone'\u001b[0m\u001b[0;34m]\u001b[0m \u001b[0;34m=\u001b[0m \u001b[0;36m0\u001b[0m\u001b[0;34m\u001b[0m\u001b[0m\n\u001b[1;32m      5\u001b[0m     \u001b[0;32melse\u001b[0m\u001b[0;34m:\u001b[0m\u001b[0;34m\u001b[0m\u001b[0m\n\u001b[0;32m----> 6\u001b[0;31m         \u001b[0mfoursquare_train\u001b[0m\u001b[0;34m[\u001b[0m\u001b[0mi\u001b[0m\u001b[0;34m]\u001b[0m\u001b[0;34m[\u001b[0m\u001b[0;34m'phone'\u001b[0m\u001b[0;34m]\u001b[0m \u001b[0;34m=\u001b[0m \u001b[0mre\u001b[0m\u001b[0;34m.\u001b[0m\u001b[0msub\u001b[0m\u001b[0;34m(\u001b[0m\u001b[0;34mr'[-|)|(| ]'\u001b[0m\u001b[0;34m,\u001b[0m \u001b[0;34m''\u001b[0m\u001b[0;34m,\u001b[0m \u001b[0mphone\u001b[0m\u001b[0;34m)\u001b[0m\u001b[0;34m\u001b[0m\u001b[0m\n\u001b[0m\u001b[1;32m      7\u001b[0m     \u001b[0;32mprint\u001b[0m \u001b[0mi\u001b[0m\u001b[0;34m,\u001b[0m\u001b[0mphone\u001b[0m\u001b[0;34m\u001b[0m\u001b[0m\n",
      "\u001b[0;32m/Applications/Canopy.app/appdata/canopy-1.6.2.3262.macosx-x86_64/Canopy.app/Contents/lib/python2.7/re.pyc\u001b[0m in \u001b[0;36msub\u001b[0;34m(pattern, repl, string, count, flags)\u001b[0m\n\u001b[1;32m    153\u001b[0m     \u001b[0ma\u001b[0m \u001b[0mcallable\u001b[0m\u001b[0;34m,\u001b[0m \u001b[0mit\u001b[0m\u001b[0;31m'\u001b[0m\u001b[0ms\u001b[0m \u001b[0mpassed\u001b[0m \u001b[0mthe\u001b[0m \u001b[0mmatch\u001b[0m \u001b[0mobject\u001b[0m \u001b[0;32mand\u001b[0m \u001b[0mmust\u001b[0m \u001b[0;32mreturn\u001b[0m\u001b[0;34m\u001b[0m\u001b[0m\n\u001b[1;32m    154\u001b[0m     a replacement string to be used.\"\"\"\n\u001b[0;32m--> 155\u001b[0;31m     \u001b[0;32mreturn\u001b[0m \u001b[0m_compile\u001b[0m\u001b[0;34m(\u001b[0m\u001b[0mpattern\u001b[0m\u001b[0;34m,\u001b[0m \u001b[0mflags\u001b[0m\u001b[0;34m)\u001b[0m\u001b[0;34m.\u001b[0m\u001b[0msub\u001b[0m\u001b[0;34m(\u001b[0m\u001b[0mrepl\u001b[0m\u001b[0;34m,\u001b[0m \u001b[0mstring\u001b[0m\u001b[0;34m,\u001b[0m \u001b[0mcount\u001b[0m\u001b[0;34m)\u001b[0m\u001b[0;34m\u001b[0m\u001b[0m\n\u001b[0m\u001b[1;32m    156\u001b[0m \u001b[0;34m\u001b[0m\u001b[0m\n\u001b[1;32m    157\u001b[0m \u001b[0;32mdef\u001b[0m \u001b[0msubn\u001b[0m\u001b[0;34m(\u001b[0m\u001b[0mpattern\u001b[0m\u001b[0;34m,\u001b[0m \u001b[0mrepl\u001b[0m\u001b[0;34m,\u001b[0m \u001b[0mstring\u001b[0m\u001b[0;34m,\u001b[0m \u001b[0mcount\u001b[0m\u001b[0;34m=\u001b[0m\u001b[0;36m0\u001b[0m\u001b[0;34m,\u001b[0m \u001b[0mflags\u001b[0m\u001b[0;34m=\u001b[0m\u001b[0;36m0\u001b[0m\u001b[0;34m)\u001b[0m\u001b[0;34m:\u001b[0m\u001b[0;34m\u001b[0m\u001b[0m\n",
      "\u001b[0;31mTypeError\u001b[0m: expected string or buffer"
     ]
    }
   ],
   "source": [
    "#Normalizing phone numbers\n",
    "for i, phone in enumerate(d['phone'] for d in foursquare_train): \n",
    "    if phone is None:\n",
    "        foursquare_train[i]['phone'] = 0\n",
    "    else:\n",
    "        foursquare_train[i]['phone'] = re.sub(r'[-|)|(| ]', '', phone)\n",
    "    print i,phone"
   ]
  },
  {
   "cell_type": "code",
   "execution_count": 64,
   "metadata": {
    "collapsed": false
   },
   "outputs": [],
   "source": [
    "fs_id = []\n",
    "locu_id = []\n",
    "\n",
    "for d in foursquare_train:\n",
    "    for e in locu_train:\n",
    "        if e['name'] == d['name'] and e['latitude'] == d['latitude']:\n",
    "            fs_id.append(d['id'])\n",
    "            locu_id.append(e['id'])\n",
    "        elif e['name'] == d['name'] and e['longitude'] == d['longitude']:\n",
    "            if d not in l:\n",
    "                fs_id.append(d['id'])\n",
    "                locu_id.append(e['id'])\n",
    "        elif e['name'] == d['name'] and e['street_address'] == d['street_address']:\n",
    "            if d not in l:\n",
    "                fs_id.append(d['id'])\n",
    "                locu_id.append(e['id'])\n",
    "        elif e['name'] == d['name'] and e['phone'] == d['phone']:\n",
    "            if d not in l:\n",
    "                fs_id.append(d['id'])\n",
    "                locu_id.append(e['id'])\n",
    "        elif e['name'] == d['name'] and e['website'] == d['website']:\n",
    "            if d not in l:\n",
    "                fs_id.append(d['id'])\n",
    "                locu_id.append(e['id'])\n",
    "        elif e['phone'] == d['phone'] and e['latitude'] == d['latitude']:\n",
    "            if d not in l:\n",
    "                fs_id.append(d['id'])\n",
    "                locu_id.append(e['id'])\n",
    "        elif e['phone'] == d['phone'] and e['website'] == d['website']:\n",
    "            if d not in l:\n",
    "                fs_id.append(d['id'])\n",
    "                locu_id.append(e['id'])\n",
    "        elif e['street_address'] == d['street_address'] and e['phone'] == d['phone']:\n",
    "            if d not in l:\n",
    "                fs_id.append(d['id'])\n",
    "                locu_id.append(e['id'])"
   ]
  },
  {
   "cell_type": "code",
   "execution_count": 68,
   "metadata": {
    "collapsed": false
   },
   "outputs": [],
   "source": [
    "#writing the result to csv\n",
    "rows = zip(locu_id, fs_id)\n",
    "my_filename = 'match_training02.csv'            \n",
    "\n",
    "w = csv.writer(open(my_filename,\"w\"))\n",
    "w.writerow(['locu', 'foursquare'])\n",
    "w.writerows(rows)"
   ]
  },
  {
   "cell_type": "raw",
   "metadata": {},
   "source": []
  }
 ],
 "metadata": {
  "kernelspec": {
   "display_name": "Python 2",
   "language": "python",
   "name": "python2"
  },
  "language_info": {
   "codemirror_mode": {
    "name": "ipython",
    "version": 2
   },
   "file_extension": ".py",
   "mimetype": "text/x-python",
   "name": "python",
   "nbconvert_exporter": "python",
   "pygments_lexer": "ipython2",
   "version": "2.7.10"
  }
 },
 "nbformat": 4,
 "nbformat_minor": 0
}
